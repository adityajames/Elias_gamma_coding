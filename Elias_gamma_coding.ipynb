{
 "cells": [
  {
   "cell_type": "markdown",
   "metadata": {},
   "source": [
    "### Elias gamma coding"
   ]
  },
  {
   "cell_type": "code",
   "execution_count": 1,
   "metadata": {},
   "outputs": [],
   "source": [
    "import numpy as np\n",
    "import pprint\n",
    "from collections import deque\n",
    "from typing import List"
   ]
  },
  {
   "cell_type": "code",
   "execution_count": 2,
   "metadata": {},
   "outputs": [],
   "source": [
    "def random_access(X:List[int],k:int):\n",
    "    assert(1<=k and k<= len(X))\n",
    "    L=''\n",
    "    P=''\n",
    "\n",
    "    #Create Elias integer codes,L and P\n",
    "    elias_dict={}\n",
    "    for i in X:\n",
    "        if i==1:\n",
    "            to_append=\"1\"\n",
    "            bin_to_append=\"\"\n",
    "        else:\n",
    "            to_append=(\"0\"*int(np.floor(np.log2(i))))+\"1\"\n",
    "            bin_to_append=bin(i)[3:]\n",
    "        if i==1:\n",
    "            elias_code=to_append\n",
    "        else:\n",
    "            elias_code=to_append+bin_to_append\n",
    "        elias_dict[elias_code]=i\n",
    "\n",
    "        L=L+to_append\n",
    "        P=P+bin_to_append\n",
    "    print(\"L=\",L)\n",
    "    print(\"P=\",P)\n",
    "    \n",
    "    #find the query item on L stream and P stream and output number\n",
    "\n",
    "    sel_bit=0\n",
    "    prev_sel_bit=0\n",
    "    zero_bit_cnt=0\n",
    "    one_bit_cnt=0\n",
    "    flag=0\n",
    "    P_stream=0\n",
    "\n",
    "    for index,value in enumerate(list(L)):\n",
    "        if value=='0':\n",
    "            zero_bit_cnt+=1\n",
    "        if value=='1':\n",
    "            one_bit_cnt+=1\n",
    "        if one_bit_cnt==k-1 and value=='1':\n",
    "            prev_sel_bit=index+1\n",
    "            P_stream=zero_bit_cnt\n",
    "        if one_bit_cnt==k and value=='1':\n",
    "            flag=1\n",
    "            sel_bit=index+1\n",
    "\n",
    "        if flag==1:\n",
    "            break\n",
    "    \n",
    "    strt_indx=P_stream\n",
    "    end_indx=(sel_bit-prev_sel_bit-1)+strt_indx\n",
    "    L_ans=L[prev_sel_bit:sel_bit]\n",
    "    bit_ans=P[strt_indx:end_indx]\n",
    "    key=L_ans+bit_ans\n",
    "    ans=elias_dict[key]\n",
    "\n",
    "    print(\"select(\",k,\",\",\"L\",\")=\",sel_bit)\n",
    "    print(\"select(\",k-1,\",\",\"L\",\")=\",prev_sel_bit)\n",
    "    ans_bit_pos=''\n",
    "    comma_flag=0\n",
    "    for i in range(strt_indx+1,end_indx+1):\n",
    "        if comma_flag==0:\n",
    "            ans_bit_pos=ans_bit_pos+str(i)\n",
    "            comma_flag=1\n",
    "        else:\n",
    "            ans_bit_pos=ans_bit_pos+\",\"+str(i)\n",
    "            \n",
    "    print(\"ExtractBitsFromP(\",ans_bit_pos,\") =\",bit_ans)\n",
    "    print(\"ANSWER:\",'1'+bit_ans+\"=\"+str(ans))\n",
    "    return"
   ]
  },
  {
   "cell_type": "code",
   "execution_count": 3,
   "metadata": {},
   "outputs": [
    {
     "name": "stdout",
     "output_type": "stream",
     "text": [
      "L= 010010001001101000100010001\n",
      "P= 110011011111001101\n",
      "select( 3 , L )= 9\n",
      "select( 2 , L )= 5\n",
      "ExtractBitsFromP( 4,5,6 ) = 011\n",
      "ANSWER: 1011=11\n"
     ]
    }
   ],
   "source": [
    "x=[3,6,11,5,1,3,15,9,13]\n",
    "random_access(x,3)"
   ]
  },
  {
   "cell_type": "code",
   "execution_count": 4,
   "metadata": {},
   "outputs": [
    {
     "name": "stdout",
     "output_type": "stream",
     "text": [
      "L= 010010001001101000100010001\n",
      "P= 110011011111001101\n",
      "select( 9 , L )= 27\n",
      "select( 8 , L )= 23\n",
      "ExtractBitsFromP( 16,17,18 ) = 101\n",
      "ANSWER: 1101=13\n"
     ]
    }
   ],
   "source": [
    "random_access(x,9)"
   ]
  },
  {
   "cell_type": "code",
   "execution_count": null,
   "metadata": {},
   "outputs": [],
   "source": []
  }
 ],
 "metadata": {
  "kernelspec": {
   "display_name": "Python 3.9.6 64-bit",
   "language": "python",
   "name": "python3"
  },
  "language_info": {
   "codemirror_mode": {
    "name": "ipython",
    "version": 3
   },
   "file_extension": ".py",
   "mimetype": "text/x-python",
   "name": "python",
   "nbconvert_exporter": "python",
   "pygments_lexer": "ipython3",
   "version": "3.9.6"
  },
  "orig_nbformat": 4,
  "vscode": {
   "interpreter": {
    "hash": "e3b5fbd04f68e2b0d30e8aa6dfd8616d885f307650246806c8ef721be6274b54"
   }
  }
 },
 "nbformat": 4,
 "nbformat_minor": 2
}
